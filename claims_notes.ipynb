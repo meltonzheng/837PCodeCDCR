{
 "cells": [
  {
   "cell_type": "code",
   "execution_count": 1,
   "metadata": {},
   "outputs": [],
   "source": [
    "import csv\n",
    "import pandas as pd\n",
    "\n",
    "from datetime import date\n",
    "from datetime import datetime\n",
    "\n",
    "today = date.today()\n",
    "now = datetime.now()\n",
    "iday = today.strftime(\"%y%m%d\")\n",
    "itime = now.strftime(\"%H%M\")"
   ]
  },
  {
   "cell_type": "code",
   "execution_count": 2,
   "metadata": {},
   "outputs": [],
   "source": [
    "def write_transaction(count, patient_last, patient_first, patient_id, jail_name, jail_city, jail_state, jail_zip, \n",
    "                      patient_birthday, consult_id, responded_date, icd10_code, pcp_last,pcp_first, pcp_npi, sr_last, sr_first, sr_npi):\n",
    "    transaction = 'ST*837*{}*005010X222A1~\\n'.format(count) +\\\n",
    "    'BHT*0019*00*0123*20{}*{}*CH~\\n'.format(iday,itime)+\\\n",
    "    'NM1*41*2*HUBMD PC*****46*1982269031~\\n'+\\\n",
    "    'PER*IC*Waheed Baqai*TE*9094559473~\\n'+\\\n",
    "    'NM1*40*2*CCIH*****46*CCIH~\\n'+\\\n",
    "    'HL*1**20*1~\\n'+\\\n",
    "    'PRV*BI*PXC*193200000X~\\n'+\\\n",
    "    'NM1*85*2*HUBMD PC*****XX*1982269031~\\n'+\\\n",
    "    'N3*104 E Olive Ave Ste 100~\\n'+\\\n",
    "    'N4*REDLANDS*CA*92373-5255~\\n'+\\\n",
    "    'REF*EI*832774928~\\n'+\\\n",
    "    'PER*IC*Waheed Baqai*TE*9094559473~\\n'+\\\n",
    "    'HL*2*1*22*0~\\n'+\\\n",
    "    'SBR*P*18*******MC~\\n'+\\\n",
    "    'NM1*IL*1*{}*{}****MI*{}~\\n'.format(patient_last, patient_first, patient_id)+\\\n",
    "    'N3*{}~\\n'.format(jail_name)+\\\n",
    "    'N4*{}*{}*{}~\\n'.format(jail_city, jail_state, jail_zip)+\\\n",
    "    'DMG*D8*{}*U~\\n'.format(patient_birthday)+\\\n",
    "    'NM1*PR*2*CCIH*****PI*CCIH~\\n'+\\\n",
    "    'CLM*{}*95***02:B:1*Y*A*Y*Y~\\n'.format(consult_id)+\\\n",
    "    'DTP*304*D8*{}~\\n'.format(responded_date)+\\\n",
    "    'HI*ABK:{}~\\n'.format(icd10_code)+\\\n",
    "    'NM1*DN*1*{}*{}****XX*{}~\\n'.format(pcp_last,pcp_first, pcp_npi) +\\\n",
    "    'NM1*82*1*{}*{}****XX*{}~\\n'.format(sr_last, sr_first, sr_npi)+\\\n",
    "    'LX*1~\\n'+\\\n",
    "    'SV1*HC:99451:GQ*95*UN*1*02**1~\\n'+\\\n",
    "    'DTP*472*D8*{}~\\n'.format(responded_date)+\\\n",
    "    'SE*28*{}~\\n'.format(count)\n",
    "\n",
    "    return transaction"
   ]
  },
  {
   "cell_type": "code",
   "execution_count": 3,
   "metadata": {
    "scrolled": true
   },
   "outputs": [],
   "source": [
    "import pandas as pd\n",
    "import os \n",
    "\n",
    "os.chdir('C:/Users/Melton/Box/Afya Dashboard')\n",
    "df_afya_dashboard = pd.read_excel('Source for Afya Earnings Dashboard.xlsx', engine = 'openpyxl') "
   ]
  },
  {
   "cell_type": "code",
   "execution_count": 4,
   "metadata": {},
   "outputs": [
    {
     "data": {
      "text/plain": [
       "Index(['Provider NPI', 'Response Time (Hours)', 'Response Time (Days)',\n",
       "       'C_RESPONDED', 'Network', 'SR_NAME', 'Consult ID', 'First Name',\n",
       "       'Last Name', 'CDC#', 'DOB', 'Diagnosis Code', 'Created', 'Created By',\n",
       "       'PCPFirst Name', 'PCPLast Name', 'PCP NPI', 'Referring Site Address',\n",
       "       'Referring Site Tax ID', 'SRFirst Name', 'SRLast Name', 'SR NPI',\n",
       "       'SR Org', 'Specialty', 'Closed Date', 'Close Code', '$ Amount'],\n",
       "      dtype='object')"
      ]
     },
     "execution_count": 4,
     "metadata": {},
     "output_type": "execute_result"
    }
   ],
   "source": [
    "df_afya_dashboard.columns"
   ]
  },
  {
   "cell_type": "code",
   "execution_count": 5,
   "metadata": {},
   "outputs": [
    {
     "name": "stdout",
     "output_type": "stream",
     "text": [
      "108780\n"
     ]
    }
   ],
   "source": [
    "responded_arr = df_afya_dashboard['C_RESPONDED'].to_numpy()\n",
    "print(len(responded_arr))"
   ]
  },
  {
   "cell_type": "code",
   "execution_count": 6,
   "metadata": {},
   "outputs": [],
   "source": [
    "import numpy as np\n",
    "\n",
    "this_month_indices = []\n",
    "responded_arr = df_afya_dashboard['C_RESPONDED'].to_numpy()\n",
    "for date in responded_arr:\n",
    "    try:\n",
    "        month = date[:date.find('/')]\n",
    "        nomonth = date[date.find('/')+1:]\n",
    "        day = nomonth[:nomonth.find('/')]\n",
    "        noday = nomonth[nomonth.find('/')+1:]\n",
    "        year = noday[:noday.find(' ')]\n",
    "        int_day = int(day)\n",
    "        if( year == '2021' and (month == '3' or month == '03') and int_day < 15):\n",
    "            index = np.where(responded_arr==date)[0][0]\n",
    "            if( df_afya_dashboard['Network'][index]=='CDCR' ):\n",
    "                this_month_indices.append(index)\n",
    "    except:\n",
    "        pass"
   ]
  },
  {
   "cell_type": "code",
   "execution_count": 7,
   "metadata": {},
   "outputs": [
    {
     "name": "stdout",
     "output_type": "stream",
     "text": [
      "113\n"
     ]
    }
   ],
   "source": [
    "print(len(this_month_indices))"
   ]
  },
  {
   "cell_type": "code",
   "execution_count": 8,
   "metadata": {},
   "outputs": [],
   "source": [
    "import numpy as np\n",
    "\n",
    "transactions = []\n",
    "counter_int = 1\n",
    "for ind in this_month_indices:\n",
    "    data = df_afya_dashboard.iloc[ind]\n",
    "    pt_last = data['Last Name']\n",
    "    pt_first = data['First Name']\n",
    "    pt_id = data['CDC#']\n",
    "\n",
    "    #Jail Stuff\n",
    "    full_address = data['Referring Site Address']\n",
    "\n",
    "    if(full_address.find('(') == -1):\n",
    "        jail_street = full_address[:full_address.find(',')]\n",
    "        temp_address = full_address[(full_address.find(',')+2):]\n",
    "        jail_city = temp_address[:temp_address.index(',')]\n",
    "        temp_address = temp_address[(temp_address.index(',')+2):]\n",
    "        jail_zip = temp_address[(temp_address.index(',')+2):]\n",
    "\n",
    "    jail_state = 'CA'\n",
    "\n",
    "    _dob = data['DOB']\n",
    "    \n",
    "    month = _dob[:_dob.find('/')]\n",
    "    nomonth = _dob[_dob.find('/')+1:]\n",
    "    day = nomonth[:nomonth.find('/')]\n",
    "    year = nomonth[nomonth.find('/')+1:]\n",
    "    dob = year+month.zfill(2)+day.zfill(2)\n",
    "    \n",
    "    eConsultID = data['Consult ID'].astype(np.int64)\n",
    "    icd = data['Diagnosis Code'].replace('>', '').replace('<','')\n",
    "\n",
    "    day = data['C_RESPONDED']\n",
    "\n",
    "    month = day[:day.find('/')]\n",
    "    nomonth = day[day.find('/')+1:]\n",
    "    day = nomonth[:nomonth.find('/')]\n",
    "    noday = nomonth[nomonth.find('/')+1:]\n",
    "    year = noday[:noday.find(' ')]\n",
    "    responded_day = year+month.zfill(2)+day.zfill(2)\n",
    "\n",
    "    sr_last = data[\"SRLast Name\"]\n",
    "    sr_first = data[\"SRFirst Name\"]\n",
    "    sr_npi = data[\"SR NPI\"].astype(np.int64)\n",
    "    \n",
    "    pcp_last = data['PCPFirst Name']\n",
    "    pcp_first = data['PCPLast Name']\n",
    "    pcp_npi = data['PCP NPI']\n",
    "    \n",
    "    counter_str = str(counter_int)\n",
    "    transactions.append(write_transaction(counter_str.zfill(4), pt_last, pt_first, pt_id, jail_street, jail_city, jail_state, jail_zip, dob, eConsultID, responded_day, icd, pcp_last, pcp_first, pcp_npi, sr_last, sr_first, sr_npi))\n",
    "    counter_int += 1"
   ]
  },
  {
   "cell_type": "code",
   "execution_count": null,
   "metadata": {},
   "outputs": [],
   "source": []
  },
  {
   "cell_type": "code",
   "execution_count": 10,
   "metadata": {},
   "outputs": [],
   "source": [
    "from datetime import date\n",
    "from datetime import datetime\n",
    "from random import uniform\n",
    "today = date.today()\n",
    "now = datetime.now()\n",
    "iday = today.strftime(\"%y%m%d\")\n",
    "itime = now.strftime(\"%H%M\")\n",
    "num_of_transactions = len(transactions)\n",
    "interchange_control_number = str(int(uniform(1,999999999))).zfill(9)\n",
    "group_control_number = str(int(uniform(1,999999999))).zfill(9)"
   ]
  },
  {
   "cell_type": "code",
   "execution_count": 11,
   "metadata": {},
   "outputs": [],
   "source": [
    "header_lines = 'ISA*00*          *00*          *ZZ*AV09311993     *01*030240928      *{}*{}*^*00501*{}*1*P*:~\\n'.format(iday,itime,interchange_control_number)+\\\n",
    "'GS*HC*AV01101957*030240928*20{}*{}*{}*X*005010X222A1~\\n'.format(iday, itime, group_control_number)\n"
   ]
  },
  {
   "cell_type": "code",
   "execution_count": 12,
   "metadata": {},
   "outputs": [],
   "source": [
    "for trans_ in transactions:\n",
    "    header_lines += trans_"
   ]
  },
  {
   "cell_type": "code",
   "execution_count": 13,
   "metadata": {},
   "outputs": [],
   "source": [
    "trailer_lines = 'GE*{}*{}~\\n'.format(num_of_transactions, group_control_number)+\\\n",
    "'IEA*1*{}~\\n'.format(interchange_control_number) "
   ]
  },
  {
   "cell_type": "code",
   "execution_count": 14,
   "metadata": {},
   "outputs": [],
   "source": [
    "header_lines+=trailer_lines"
   ]
  },
  {
   "cell_type": "code",
   "execution_count": null,
   "metadata": {},
   "outputs": [],
   "source": []
  },
  {
   "cell_type": "code",
   "execution_count": 16,
   "metadata": {},
   "outputs": [],
   "source": [
    "os.chdir('C:/Users/Melton/OneDrive/Documents/Afya/Claims')\n",
    "f = open(\"march_claims_P.edi\", \"w\")\n",
    "f.write(header_lines)\n",
    "f.close()"
   ]
  },
  {
   "cell_type": "code",
   "execution_count": null,
   "metadata": {},
   "outputs": [],
   "source": []
  },
  {
   "cell_type": "code",
   "execution_count": null,
   "metadata": {},
   "outputs": [],
   "source": []
  }
 ],
 "metadata": {
  "kernelspec": {
   "display_name": "Python 3",
   "language": "python",
   "name": "python3"
  },
  "language_info": {
   "codemirror_mode": {
    "name": "ipython",
    "version": 3
   },
   "file_extension": ".py",
   "mimetype": "text/x-python",
   "name": "python",
   "nbconvert_exporter": "python",
   "pygments_lexer": "ipython3",
   "version": "3.9.0"
  }
 },
 "nbformat": 4,
 "nbformat_minor": 4
}
